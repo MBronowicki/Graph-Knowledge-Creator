{
 "cells": [
  {
   "cell_type": "markdown",
   "id": "8b423382",
   "metadata": {},
   "source": [
    "# WEB CRAWLER with Langchain"
   ]
  },
  {
   "cell_type": "code",
   "execution_count": 1,
   "id": "c5a4748b",
   "metadata": {},
   "outputs": [],
   "source": [
    "from langchain_community.document_loaders.firecrawl import FireCrawlLoader"
   ]
  },
  {
   "cell_type": "markdown",
   "id": "8ed8aae7",
   "metadata": {},
   "source": []
  },
  {
   "cell_type": "code",
   "execution_count": null,
   "id": "a0df2913",
   "metadata": {},
   "outputs": [],
   "source": [
    "import langchain_community"
   ]
  },
  {
   "cell_type": "code",
   "execution_count": null,
   "id": "8c49902f",
   "metadata": {},
   "outputs": [],
   "source": []
  }
 ],
 "metadata": {
  "kernelspec": {
   "display_name": ".venv",
   "language": "python",
   "name": "python3"
  },
  "language_info": {
   "codemirror_mode": {
    "name": "ipython",
    "version": 3
   },
   "file_extension": ".py",
   "mimetype": "text/x-python",
   "name": "python",
   "nbconvert_exporter": "python",
   "pygments_lexer": "ipython3",
   "version": "3.13.1"
  }
 },
 "nbformat": 4,
 "nbformat_minor": 5
}
